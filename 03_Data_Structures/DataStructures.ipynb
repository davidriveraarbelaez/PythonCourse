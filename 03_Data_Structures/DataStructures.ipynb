{
 "cells": [
  {
   "cell_type": "markdown",
   "metadata": {},
   "source": [
    "# Lesson 3. Data Structures\n",
    "- Lists\n",
    "- Tuples\n",
    "- Dictionaries\n",
    "- Sets"
   ]
  },
  {
   "cell_type": "markdown",
   "metadata": {},
   "source": [
    "## Fundamental Concepts\n",
    "\n",
    "### Mutability vs. Immutability\n",
    "In Python, understanding the difference between mutable and immutable data structures is crucial. Lists are mutable, meaning their elements can be changed after the list is created. Tuples, on the other hand, are immutable, meaning once a tuple is created, its elements cannot be changed.\n",
    "\n",
    "### Order\n",
    "Both lists and tuples are ordered collections, which means the items have a defined order, and that order will not change. Sets, however, are unordered collections, so the items do not have a defined order.\n",
    "\n",
    "### Duplicates\n",
    "Sets do not allow duplicate elements. This means that every element in a set must be unique. If you try to add a duplicate element to a set, it will be ignored.\n",
    "\n",
    "### Keys in Dictionaries\n",
    "In dictionaries, keys must be unique and immutable. This means that you cannot have two identical keys in a dictionary, and the keys must be of a type that cannot be changed, such as strings or numbers."
   ]
  },
  {
   "cell_type": "markdown",
   "metadata": {},
   "source": [
    "## Python Lists\n",
    "\n",
    "### Introduction\n",
    "In this section, we will explore Python lists, one of the most versatile and commonly used data structures in Python. Lists are essential for any Python programmer, from beginners to data scientists.\n",
    "\n",
    "### What is a List?\n",
    "A list in Python is an ordered collection of items that can hold a variety of object types. Lists are defined by placing a comma-separated sequence of items within square brackets `[]`.\n",
    "\n",
    "### Creating a List\n",
    "You can create a list by simply placing the sequence of elements inside square brackets."
   ]
  },
  {
   "cell_type": "code",
   "execution_count": null,
   "metadata": {},
   "outputs": [],
   "source": [
    "# Example of a list\n",
    "my_list = [1, 2, 3, 4, 5]"
   ]
  },
  {
   "cell_type": "markdown",
   "metadata": {},
   "source": [
    "### Accessing List Elements\n",
    "You can access elements in a list by their index. Python uses zero-based indexing, so the first element has an index of 0."
   ]
  },
  {
   "cell_type": "code",
   "execution_count": null,
   "metadata": {},
   "outputs": [],
   "source": [
    "# Accessing the firt element\n",
    "print(my_list[0])  # Output: 1"
   ]
  },
  {
   "cell_type": "markdown",
   "metadata": {},
   "source": [
    "### Modifying a List\n",
    "Lists are mutable, meaning you can change their content without changing their identity."
   ]
  },
  {
   "cell_type": "code",
   "execution_count": null,
   "metadata": {},
   "outputs": [],
   "source": [
    "# Modifying the second element\n",
    "my_list[1] = 10\n",
    "print(my_list)  # Output: [1, 10, 3, 4, 5]"
   ]
  },
  {
   "cell_type": "markdown",
   "metadata": {},
   "source": [
    "### List Methods\n",
    "Python lists come with a variety of built-in methods that make them easy to work with.\n",
    "\n",
    "- `append()`: Adds an element to the end of the list.\n",
    "- `remove()`: Removes the first occurrence of a specified value.\n",
    "- `pop()`: Removes and returns the element at the specified position.\n",
    "- `sort()`: Sorts the list in ascending order."
   ]
  },
  {
   "cell_type": "code",
   "execution_count": null,
   "metadata": {},
   "outputs": [],
   "source": [
    "# Example of list methods\n",
    "my_list.append(6)\n",
    "print(my_list)  # Output: [1, 10, 3, 4, 5, 6]\n",
    "\n",
    "my_list.remove(10)\n",
    "print(my_list)  # Output: [1, 3, 4, 5, 6]\n",
    "\n",
    "my_list.pop(2)\n",
    "print(my_list)  # Output: [1, 3, 5, 6]\n",
    "\n",
    "my_list.sort()\n",
    "print(my_list)  # Output: [1, 3, 5, 6]"
   ]
  },
  {
   "cell_type": "markdown",
   "metadata": {},
   "source": [
    "### Conclusion\n",
    "Lists are a fundamental data structure in Python, offering flexibility and a wide range of functionalities. Understanding how to use lists effectively is crucial for any Python programmer, especially those aspiring to become data scientists."
   ]
  }
 ],
 "metadata": {
  "language_info": {
   "name": "python"
  }
 },
 "nbformat": 4,
 "nbformat_minor": 2
}
