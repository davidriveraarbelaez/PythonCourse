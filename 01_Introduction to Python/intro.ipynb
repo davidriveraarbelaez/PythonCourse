{
 "cells": [
  {
   "cell_type": "markdown",
   "metadata": {},
   "source": [
    "# Create a virtual environment\n",
    "\n",
    "1. Create a virtual environment in the current directory\n",
    "python3 -m venv venv\n",
    "\n",
    "2. Activate the virtual environment (on Windows)\n",
    "source venv/bin/activate\n",
    "\n",
    "3.  Install the required packages\n",
    "pip install numpy pandas matplotlib seaborn scikit-learn\n",
    "\n",
    "4.  Deactivate the virtual environment\n",
    "deactivate"
   ]
  }
 ],
 "metadata": {
  "language_info": {
   "name": "python"
  }
 },
 "nbformat": 4,
 "nbformat_minor": 2
}
