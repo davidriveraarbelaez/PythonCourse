{
 "cells": [
  {
   "cell_type": "markdown",
   "metadata": {},
   "source": [
    "# Lesson 2. Basic Python Syntax\n",
    "- Basic Syntax and Data Types (numbers, strings, lists, tuples, dictionaries)\n",
    "- Declaring variables\n",
    "- Casting\n",
    "- Arithmetic, comparison, and logical operators\n",
    "- Operator precedence\n",
    "\n"
   ]
  },
  {
   "cell_type": "code",
   "execution_count": null,
   "metadata": {},
   "outputs": [],
   "source": [
    "# First steps\n",
    "# Comments\n",
    "# This is a single-line comment\n",
    "\n",
    "\"\"\"\n",
    "This is a multi-line comment\n",
    "\"\"\""
   ]
  },
  {
   "cell_type": "markdown",
   "metadata": {},
   "source": [
    "## Understanding Variables in Python\n",
    "\n",
    "Variables are fundamental to programming in Python. They are used to store data that can be referenced and manipulated throughout your code. Here’s a quick guide to understanding variables in Python:\n",
    "\n",
    "### What is a Variable?\n",
    "\n",
    "A variable is essentially a name that refers to a value. This value can be of various data types, such as integers, floating-point numbers, strings, lists, tuples, and dictionaries."
   ]
  },
  {
   "cell_type": "markdown",
   "metadata": {},
   "source": [
    "### Creating Variables\n",
    "\n",
    "In Python, you create a variable by assigning a value to it using the `=` operator. For example:"
   ]
  },
  {
   "cell_type": "code",
   "execution_count": null,
   "metadata": {},
   "outputs": [],
   "source": [
    "x = 10  # Integer\n",
    "y = 3.14  # Floating-point number\n",
    "z = \"Hello\"  # String"
   ]
  },
  {
   "cell_type": "markdown",
   "metadata": {},
   "source": [
    "### Variable Naming Rules\n",
    "\n",
    "When naming variables in Python, there are a few rules to keep in mind:\n",
    "- Variable names must start with a letter (a-z, A-Z) or an underscore (_).\n",
    "- The rest of the variable name can contain letters, numbers, or underscores.\n",
    "- Variable names are case-sensitive (e.g., `myVar` and `myvar` are different variables).\n",
    "\n",
    "### Common Data Types\n",
    "\n",
    "Here are some common data types you can use for variables in Python:\n",
    "\n",
    "- **Integer**: Whole numbers, e.g., `x = 10`\n",
    "- **Float**: Decimal numbers, e.g., `y = 3.14`\n",
    "- **String**: Text, e.g., `z = \"Hello\"`\n",
    "- **List**: Ordered collection of items, e.g., `my_list = [1, 2, 3]`\n",
    "- **Tuple**: Ordered, immutable collection of items, e.g., `my_tuple = (4, 5, 6)`\n",
    "- **Dictionary**: Collection of key-value pairs, e.g., `my_dict = {\"key1\": \"value1\", \"key2\": \"value2\"}`"
   ]
  },
  {
   "cell_type": "markdown",
   "metadata": {},
   "source": [
    "### Printing Variables\n",
    "\n",
    "You can print the value of a variable using the `print()` function:"
   ]
  },
  {
   "cell_type": "code",
   "execution_count": null,
   "metadata": {},
   "outputs": [],
   "source": [
    "print(x) # Print the value of x\n",
    "print(y) # Print the value of y\n",
    "print(z) # Print the value of z"
   ]
  },
  {
   "cell_type": "code",
   "execution_count": null,
   "metadata": {},
   "outputs": [],
   "source": [
    "# Variables Example\n",
    "name = \"Alice\"\n",
    "age = 25\n",
    "favorite_color = \"blue\"\n",
    "favorite_fruits = [\"apple\", \"banana\", \"cherry\"]\n",
    "personal_info = {\"name\": \"Alice\", \"age\": 25, \"city\": \"Wonderland\"}"
   ]
  },
  {
   "cell_type": "code",
   "execution_count": null,
   "metadata": {},
   "outputs": [],
   "source": [
    "# Printing values\n",
    "print(f\"My name is {name}, I am {age} years old, and my favorite color is {favorite_color}.\")\n",
    "print(f\"My favorite fruits are: {favorite_fruits[0]} and {favorite_fruits[-1]}.\")\n",
    "print(f\"I live in {personal_info['city']}.\")"
   ]
  },
  {
   "cell_type": "code",
   "execution_count": null,
   "metadata": {},
   "outputs": [],
   "source": [
    "# More variables\n",
    "x = 10  # Integer\n",
    "y = 3.14  # Floating-point number\n",
    "z = \"Hello\"  # String\n",
    "my_list = [1, 2, 3]  # List\n",
    "my_tuple = (4, 5, 6)  # Tuple\n",
    "my_dict = {\"key1\": \"value1\", \"key2\": \"value2\"}  # Dictionary"
   ]
  },
  {
   "cell_type": "code",
   "execution_count": null,
   "metadata": {},
   "outputs": [],
   "source": [
    "# Printing data types\n",
    "print(type(x))  # <class 'int'>\n",
    "print(type(y))  # <class 'float'>\n",
    "print(type(z))  # <class 'str'>\n",
    "print(type(my_list))  # <class 'list'>\n",
    "print(type(my_tuple))  # <class 'tuple'>"
   ]
  },
  {
   "cell_type": "code",
   "execution_count": null,
   "metadata": {},
   "outputs": [],
   "source": [
    "# Printing values\n",
    "print(x)\n",
    "print(y)\n",
    "print(z)\n",
    "print(my_list)\n",
    "print(my_tuple)\n",
    "print(my_dict)"
   ]
  },
  {
   "cell_type": "markdown",
   "metadata": {},
   "source": [
    "## Data conversion (Casting)\n",
    "\n",
    "This module demonstrates type casting in Python.\n",
    "\n",
    "Type casting is the process of converting a variable from one type to another. \n",
    "Python provides several built-in functions for type casting, including:\n",
    "\n",
    "- `int()`: Converts a value to an integer.\n",
    "- `float()`: Converts a value to a floating-point number.\n",
    "- `str()`: Converts a value to a string.\n",
    "- `bool()`: Converts a value to a boolean.\n",
    "\n",
    "Examples:"
   ]
  },
  {
   "cell_type": "code",
   "execution_count": null,
   "metadata": {},
   "outputs": [],
   "source": [
    "# Converting a string to a integer:\n",
    "num_str = \"10\"\n",
    "num_int = int(num_str)"
   ]
  },
  {
   "cell_type": "code",
   "execution_count": null,
   "metadata": {},
   "outputs": [],
   "source": [
    "# Converting an integer to a float:\n",
    "num_int = 10\n",
    "num_float = float(num_int)"
   ]
  },
  {
   "cell_type": "code",
   "execution_count": null,
   "metadata": {},
   "outputs": [],
   "source": [
    "# Converting a float to a string:\n",
    "num_float = 10.5\n",
    "num_str = str(num_float)"
   ]
  },
  {
   "cell_type": "code",
   "execution_count": null,
   "metadata": {},
   "outputs": [],
   "source": [
    "# Converting a non-zero integer to a boolean:\n",
    "num_int = 1\n",
    "num_bool = bool(num_int)"
   ]
  },
  {
   "cell_type": "markdown",
   "metadata": {},
   "source": [
    "**Key points to emphasize:**\n",
    "\n",
    "- Implicit casting: Python automatically casts values in certain situations (e.g., when performing mathematical operations).\n",
    "- Explicit casting: You can explicitly cast values using functions like int(), float(), str(), etc.\n",
    "- Data type compatibility: Be aware of data type compatibility when performing operations (e.g., you can't add a string to an integer).\n",
    "\n",
    "Note:\n",
    "- When converting strings to numbers, ensure the string is a valid representation of the number.\n",
    "- Type casting can lead to data loss, especially when converting from float to int, as the decimal part will be truncated."
   ]
  },
  {
   "cell_type": "markdown",
   "metadata": {},
   "source": [
    "## Arithmetic, Comparison, and Logical Operators in Python\n",
    "\n",
    "### Arithmetic Operators\n",
    "\n",
    "Arithmetic operators are used to perform mathematical operations such as addition, subtraction, multiplication, and division. Here are some common arithmetic operators in Python:\n",
    "\n",
    "- `+` : Addition\n",
    "- `-` : Subtraction\n",
    "- `*` : Multiplication\n",
    "- `/` : Division\n",
    "- `%` : Modulus (remainder of the division)\n",
    "- `**` : Exponentiation (power)\n",
    "- `//` : Floor division (division that rounds down to the nearest integer)"
   ]
  },
  {
   "cell_type": "code",
   "execution_count": null,
   "metadata": {},
   "outputs": [],
   "source": [
    "#Example:\n",
    "\n",
    "a = 10\n",
    "b = 3\n",
    "\n",
    "print(a + b)  # 13\n",
    "print(a - b)  # 7\n",
    "print(a * b)  # 30\n",
    "print(a / b)  # 3.3333333333333335\n",
    "print(a % b)  # 1\n",
    "print(a ** b)  # 1000\n",
    "print(a // b)  # 3"
   ]
  },
  {
   "cell_type": "markdown",
   "metadata": {},
   "source": [
    "### Comparison Operators\n",
    "\n",
    "Comparison operators are used to compare two values. They return a boolean value (`True` or `False`). Here are some common comparison operators in Python:\n",
    "\n",
    "- `==` : Equal to\n",
    "- `!=` : Not equal to\n",
    "- `>` : Greater than\n",
    "- `<` : Less than\n",
    "- `>=` : Greater than or equal to\n",
    "- `<=` : Less than or equal to"
   ]
  },
  {
   "cell_type": "code",
   "execution_count": null,
   "metadata": {},
   "outputs": [],
   "source": [
    "#Example:\n",
    "\n",
    "x = 5\n",
    "y = 10\n",
    "\n",
    "print(x == y)  # False\n",
    "print(x != y)  # True\n",
    "print(x > y)  # False\n",
    "print(x < y)  # True\n",
    "print(x >= y)  # False\n",
    "print(x <= y)  # True\n"
   ]
  },
  {
   "cell_type": "markdown",
   "metadata": {},
   "source": [
    "# Logical Operators\n",
    "\n",
    "Logical operators are used to combine conditional statements. Here are the logical operators in Python:\n",
    "\n",
    "- `and` : Returns `True` if both statements are true\n",
    "- `or` : Returns `True` if one of the statements is true\n",
    "- `not` : Reverses the result, returns `False` if the result is true"
   ]
  },
  {
   "cell_type": "code",
   "execution_count": null,
   "metadata": {},
   "outputs": [],
   "source": [
    "#Example:\n",
    "\n",
    "a = True\n",
    "b = False\n",
    "\n",
    "print(a and b)  # False\n",
    "print(a or b)  # True\n",
    "print(not a)  # False"
   ]
  },
  {
   "cell_type": "markdown",
   "metadata": {},
   "source": [
    "Understanding these operators is crucial for performing various operations and making decisions in your Python programs."
   ]
  },
  {
   "cell_type": "markdown",
   "metadata": {},
   "source": [
    "## Operator Precedence in Python\n",
    "\n",
    "Operator precedence determines the order in which operations are performed in an expression. Operators with higher precedence are evaluated before operators with lower precedence. If operators have the same precedence, they are evaluated from left to right.\n",
    "\n",
    "### Precedence Table\n",
    "\n",
    "Here is a table of operators in Python, listed from highest to lowest precedence:\n",
    "\n",
    "1. **Parentheses**: `()`\n",
    "2. **Exponentiation**: `**`\n",
    "3. **Unary Plus, Unary Minus, and Bitwise NOT**: `+x`, `-x`, `~x`\n",
    "4. **Multiplication, Division, Floor Division, and Modulus**: `*`, `/`, `//`, `%`\n",
    "5. **Addition and Subtraction**: `+`, `-`\n",
    "6. **Bitwise Shift Operators**: `<<`, `>>`\n",
    "7. **Bitwise AND**: `&`\n",
    "8. **Bitwise XOR**: `^`\n",
    "9. **Bitwise OR**: `|`\n",
    "10. **Comparison Operators**: `==`, `!=`, `>`, `<`, `>=`, `<=`, `is`, `is not`, `in`, `not in`\n",
    "11. **Logical NOT**: `not`\n",
    "12. **Logical AND**: `and`\n",
    "13. **Logical OR**: `or`\n",
    "14. **Conditional Expressions**: `if - else`\n",
    "15. **Lambda Expressions**: `lambda`"
   ]
  },
  {
   "cell_type": "markdown",
   "metadata": {},
   "source": [
    "### Examples\n",
    "\n",
    "Here are some examples to illustrate operator precedence:"
   ]
  },
  {
   "cell_type": "code",
   "execution_count": null,
   "metadata": {},
   "outputs": [],
   "source": [
    "# Example 1: Parentheses\n",
    "result = (2 + 3) * 4  # Parentheses first, then multiplication\n",
    "print(result)  # Output: 20"
   ]
  },
  {
   "cell_type": "code",
   "execution_count": null,
   "metadata": {},
   "outputs": [],
   "source": [
    "# Example 2: Exponentiation\n",
    "result = 2 ** 3 ** 2  # Exponentiation is right-associative\n",
    "print(result)  # Output: 512"
   ]
  },
  {
   "cell_type": "code",
   "execution_count": null,
   "metadata": {},
   "outputs": [],
   "source": [
    "# Example 3: Mixed Operators\n",
    "result = 2 + 3 * 4  # Multiplication before addition\n",
    "print(result)  # Output: 14"
   ]
  },
  {
   "cell_type": "code",
   "execution_count": null,
   "metadata": {},
   "outputs": [],
   "source": [
    "# Example 4: Comparison and Logical Operators\n",
    "result = 3 < 4 and 4 < 5  # Comparison before logical AND\n",
    "print(result)  # Output: True"
   ]
  },
  {
   "cell_type": "markdown",
   "metadata": {},
   "source": [
    "Understanding operator precedence is crucial for writing correct and efficient Python code. When in doubt, use parentheses to make the order of operations explicit and improve code readability."
   ]
  },
  {
   "cell_type": "markdown",
   "metadata": {},
   "source": [
    "Exercise:\n",
    "\n",
    "    1. Create variables for your name, age, and favorite color.\n",
    "    2. Print a message using these variables.\n",
    "    3. Create a list of your favorite fruits.\n",
    "    4. Access the first and last elements of the list.\n",
    "    5. Create a dictionary with your personal information (name, age, city).\n",
    "    6. Access the value of the \"city\" key.\n",
    "    7. Perform the following arithmetic operations and store the results in variables:\n",
    "        a. Add 15 and 7\n",
    "        b. Subtract 10 from 25\n",
    "        c. Multiply 3 by 8\n",
    "        d. Divide 56 by 7\n",
    "        e. Find the remainder of 29 divided by 5\n",
    "        f. Raise 2 to the power of 3\n",
    "    8. Use comparison operators to compare the following pairs of values and store the results in variables:\n",
    "        a. Check if 10 is equal to 10\n",
    "        b. Check if 15 is not equal to 20\n",
    "        c. Check if 7 is greater than 5\n",
    "        d. Check if 3 is less than 8\n",
    "        e. Check if 12 is greater than or equal to 12\n",
    "        f. Check if 9 is less than or equal to 10\n",
    "\n",
    "    9. Use logical operators to evaluate the following expressions and store the results in variables:\n",
    "        a. Check if both 5 is greater than 3 and 8 is less than 10\n",
    "        b. Check if either 7 is equal to 7 or 4 is equal to 5\n",
    "        c. Check if not 6 is greater than 2\n",
    "    10. Evaluate the following expressions and store the results in variables:\n",
    "        a. (3 + 5) * 2\n",
    "        b. 2 ** 3 ** 2\n",
    "        c. 10 + 5 * 2\n",
    "        d. (4 + 6) / 2\n",
    "        e. 7 + 3 * 2 - 1\n",
    "        f. 8 / 2 ** 2\n",
    "        g. (2 + 3) * (4 - 1)\n",
    "        h. 5 + 4 * 3 - 2 / 1"
   ]
  },
  {
   "cell_type": "code",
   "execution_count": null,
   "metadata": {},
   "outputs": [],
   "source": [
    "# Let's practice\n",
    "# 1. Create variables for your name, age, and favorite color."
   ]
  }
 ],
 "metadata": {
  "kernelspec": {
   "display_name": "Python 3",
   "language": "python",
   "name": "python3"
  },
  "language_info": {
   "name": "python",
   "version": "3.12.3"
  }
 },
 "nbformat": 4,
 "nbformat_minor": 2
}
