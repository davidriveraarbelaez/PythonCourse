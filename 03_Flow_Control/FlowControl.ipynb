{
 "cells": [
  {
   "cell_type": "markdown",
   "metadata": {},
   "source": [
    "# Lesson 3. Flow Control\n",
    "- Conditionals: if, elif, else\n",
    "- Loops: for, while"
   ]
  },
  {
   "cell_type": "markdown",
   "metadata": {},
   "source": [
    "# Fundamental concepts\n",
    "\n",
    "- **Conditionals** are used to execute a block of code based on a condition.\n",
    "- **Loops** are used to execute a block of code repeatedly.\n",
    "\n",
    "# Conditionals\n",
    "\n",
    "- **if** statement: executes a block of code if a condition is true.\n",
    "- **elif** statement: executes a block of code if the previous condition is false and the current condition is true.\n",
    "- **else** statement: executes a block of code if all the previous conditions are false.\n",
    "\n",
    "```python   \n",
    "if condition1:\n",
    "    # code block 1\n",
    "elif condition2:\n",
    "    # code block 2\n",
    "else:\n",
    "    # code block 3\n",
    "```\n",
    "\n",
    "# Loops\n",
    "\n",
    "- **for** loop: iterates over a sequence (list, tuple, string, etc.) and executes a block of code for each element.\n",
    "- **while** loop: executes a block of code as long as a condition is true.\n",
    "\n",
    "```python\n",
    "for element in sequence:\n",
    "    # code block\n",
    "\n",
    "while condition:\n",
    "    # code block\n",
    "```"
   ]
  },
  {
   "cell_type": "code",
   "execution_count": null,
   "metadata": {},
   "outputs": [],
   "source": [
    "x = 10\n",
    "if x > 5:\n",
    "    print(\"x is greater than 5\")"
   ]
  },
  {
   "cell_type": "markdown",
   "metadata": {},
   "source": [
    "# For loop"
   ]
  },
  {
   "cell_type": "code",
   "execution_count": null,
   "metadata": {},
   "outputs": [],
   "source": [
    "fruits = [\"apple\", \"banana\", \"cherry\"]\n",
    "for fruit in fruits:\n",
    "    print(fruit)"
   ]
  },
  {
   "cell_type": "code",
   "execution_count": null,
   "metadata": {
    "vscode": {
     "languageId": "plaintext"
    }
   },
   "outputs": [],
   "source": [
    "# While loop example"
   ]
  },
  {
   "cell_type": "code",
   "execution_count": null,
   "metadata": {
    "vscode": {
     "languageId": "plaintext"
    }
   },
   "outputs": [],
   "source": [
    "x = 0\n",
    "while x < 5:\n",
    "    print(x)\n",
    "    x += 1"
   ]
  },
  {
   "cell_type": "markdown",
   "metadata": {},
   "source": [
    "# Exercises\n",
    "\n",
    "1. Write a Python program to check if a number is even or odd.\n",
    "2. Write a Python program to check if a number is a palindrome.\n",
    "3. Write a Python program to find the sum of all even numbers in a list.\n",
    "4. Write a Python program to find the sum of all odd numbers in a list.\n",
    "5. Write a Python program to find the sum of all prime numbers in a list.\n",
    "6. Write a Python program to find the sum of all Armstrong numbers in a list.\n",
    "7. Write a Python program to find the sum of all happy numbers in a list.\n",
    "8. Write a Python program to find the sum of all Harshad numbers in a list.\n",
    "9. Write a Python program to find the sum of all neon numbers in a list.\n",
    "10. Write a Python program to find the sum of all perfect numbers in a list."
   ]
  },
  {
   "cell_type": "code",
   "execution_count": null,
   "metadata": {
    "vscode": {
     "languageId": "plaintext"
    }
   },
   "outputs": [],
   "source": []
  }
 ],
 "metadata": {
  "language_info": {
   "name": "python"
  }
 },
 "nbformat": 4,
 "nbformat_minor": 2
}
